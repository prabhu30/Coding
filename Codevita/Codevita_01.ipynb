{
  "nbformat": 4,
  "nbformat_minor": 0,
  "metadata": {
    "colab": {
      "name": "Codevita-01.ipynb",
      "provenance": [],
      "collapsed_sections": []
    },
    "kernelspec": {
      "name": "python3",
      "display_name": "Python 3"
    },
    "language_info": {
      "name": "python"
    }
  },
  "cells": [
    {
      "cell_type": "markdown",
      "metadata": {
        "id": "hyAB1AI6V3nF"
      },
      "source": [
        "# **Questions list**"
      ]
    },
    {
      "cell_type": "markdown",
      "metadata": {
        "id": "xY9-pdehVn02"
      },
      "source": [
        "* Questions list - 1 : [Click here](http://www.theinsightcoders.com/Codevita/CodevitaIntroduction.html)\n",
        "\n"
      ]
    },
    {
      "cell_type": "markdown",
      "metadata": {
        "id": "fF5JQYjZJlDH"
      },
      "source": [
        "\n",
        "# **1. LEXI STRING**\n",
        "* Question : [Click here](http://www.theinsightcoders.com/Codevita/CodevitaStatement01.html)"
      ]
    },
    {
      "cell_type": "code",
      "metadata": {
        "colab": {
          "base_uri": "https://localhost:8080/"
        },
        "id": "2K5VzEAsJjVt",
        "outputId": "42bb6e32-72ea-4b1e-a8d3-1efe0ee5663f"
      },
      "source": [
        "tc = int(input())\n",
        "while(tc > 0):\n",
        "  p = input()\n",
        "  s = input()\n",
        "\n",
        "  list1 = []\n",
        "  for i in s:\n",
        "    list1.append(p.find(i))\n",
        "  list1.sort()\n",
        "  \n",
        "  for i in list1:\n",
        "    print(p[i], end='')\n",
        "  if tc > 1:\n",
        "    print()\n",
        "  tc -= 1\n",
        "\n",
        "\n",
        "# Give Input like :\n",
        "\n",
        "# 2\n",
        "# polikujmnhytgbvfredcxswqaz\n",
        "# abcd\n",
        "# qwryupcsfoghjkldezvxbintma\n",
        "# ativedoc"
      ],
      "execution_count": 1,
      "outputs": [
        {
          "output_type": "stream",
          "text": [
            "2\n",
            "polikujmnhytgbvfredcxswqaz\n",
            "abcd\n",
            "bdca\n",
            "qwryupcsfoghjkldezvxbintma\n",
            "ativedoc\n",
            "codevita"
          ],
          "name": "stdout"
        }
      ]
    },
    {
      "cell_type": "markdown",
      "metadata": {
        "id": "ikuZqkCkWyMD"
      },
      "source": [
        "# **2. PHILALAND COINS**\n",
        "* Question : [Click here](http://www.theinsightcoders.com/Codevita/CodevitaStatement02.html)"
      ]
    },
    {
      "cell_type": "markdown",
      "metadata": {
        "id": "fBsmII_KZkmV"
      },
      "source": [
        "### **METHOD - 1 :**"
      ]
    },
    {
      "cell_type": "code",
      "metadata": {
        "colab": {
          "base_uri": "https://localhost:8080/"
        },
        "id": "6lPTng9aJK3O",
        "outputId": "eb1c0aab-3ffc-48ac-a4ee-4fbe8c826bd1"
      },
      "source": [
        "tc = int(input())\n",
        "for i in range(1,tc+1):\n",
        "  n = int(input())\n",
        "  c = 0\n",
        "  while n>0:\n",
        "    n = n//2\n",
        "    c += 1\n",
        "  print(c)5\n",
        "\n",
        "# Give Input like :\n",
        "# 2\n",
        "# 1\n",
        "# 5"
      ],
      "execution_count": 2,
      "outputs": [
        {
          "output_type": "stream",
          "text": [
            "2\n",
            "1\n",
            "1\n",
            "5\n",
            "3\n"
          ],
          "name": "stdout"
        }
      ]
    },
    {
      "cell_type": "markdown",
      "metadata": {
        "id": "3TvI8NmCZqWq"
      },
      "source": [
        "### **METHOD - 2 :**"
      ]
    },
    {
      "cell_type": "code",
      "metadata": {
        "colab": {
          "base_uri": "https://localhost:8080/"
        },
        "id": "-VGIUoSBZudz",
        "outputId": "f2aec0c6-29cb-45d8-8963-66df1a7173dd"
      },
      "source": [
        "tc = int(input())\n",
        "for i in range(1,tc+1):\n",
        "  print( len( \"{0:b}\".format(int(input())) ) )\n",
        "\n",
        "# Give Input like :\n",
        "# 2\n",
        "# 25\n",
        "# 10"
      ],
      "execution_count": 3,
      "outputs": [
        {
          "output_type": "stream",
          "text": [
            "2\n",
            "25\n",
            "5\n",
            "10\n",
            "4\n"
          ],
          "name": "stdout"
        }
      ]
    },
    {
      "cell_type": "markdown",
      "metadata": {
        "id": "jqvsHNgIath9"
      },
      "source": [
        "# **3. CONSECUTIVE PRIME NUMBER SUM**\n",
        "* Question : [Click here](http://www.theinsightcoders.com/Codevita/CodevitaStatement03.html)"
      ]
    },
    {
      "cell_type": "markdown",
      "metadata": {
        "id": "T5pBeGl8nS1y"
      },
      "source": [
        "### **METHOD - 1 :**"
      ]
    },
    {
      "cell_type": "code",
      "metadata": {
        "colab": {
          "base_uri": "https://localhost:8080/"
        },
        "id": "mSWX54Y5a2zE",
        "outputId": "4b2267bc-cc8d-4dcf-9390-5fc614b216a4"
      },
      "source": [
        "n = int(input())\n",
        "primes = []\n",
        "primes = [i for i in range(2,n+1) if all(i%j!=0 for j in range(2,int(i*0.5)+1))]\n",
        "\n",
        "c = 0\n",
        "\n",
        "for i in range(2,len(primes)):\n",
        "  sum = 0\n",
        "  for j in primes:\n",
        "    sum += j\n",
        "    if sum==primes[i]:\n",
        "      c += 1\n",
        "      break\n",
        "    if sum > primes[i]:\n",
        "      break\n",
        "\n",
        "print(c)\n",
        "\n",
        "# Give Input like :\n",
        "# 45"
      ],
      "execution_count": 4,
      "outputs": [
        {
          "output_type": "stream",
          "text": [
            "45\n",
            "3\n"
          ],
          "name": "stdout"
        }
      ]
    },
    {
      "cell_type": "markdown",
      "metadata": {
        "id": "TSRoXcZRnIiT"
      },
      "source": [
        "### **METHOD - 2 :**"
      ]
    },
    {
      "cell_type": "code",
      "metadata": {
        "id": "UORzsxwdnO0p"
      },
      "source": [
        "# Run on any other local/online compiler. It is working :)\n",
        "n = int(input())\n",
        "primes = []\n",
        "c = 0\n",
        "\n",
        "primes = [i for i in range(2,n+1) if all(i%j!=0 for j in range(2,int(i*0.5)+1))]\n",
        "\n",
        "for i in range(2,len(primes)):\n",
        "  if sum(primes[:i]) in primes:\n",
        "    c+= 1\n",
        "\n",
        "print(c)\n",
        "\n",
        "# Give Input like :\n",
        "# 100"
      ],
      "execution_count": null,
      "outputs": []
    },
    {
      "cell_type": "markdown",
      "metadata": {
        "id": "ho0c_cncMoj8"
      },
      "source": [
        "# **4. PRIME FIBONACCI**\n",
        "* Question : [Click here](http://www.theinsightcoders.com/Codevita/CodevitaStatement04.html)"
      ]
    },
    {
      "cell_type": "markdown",
      "metadata": {
        "id": "PtoNcfv3Ux20"
      },
      "source": [
        "### **METHOD - 1 :**"
      ]
    },
    {
      "cell_type": "code",
      "metadata": {
        "colab": {
          "base_uri": "https://localhost:8080/"
        },
        "id": "n5GbZPoKMoDG",
        "outputId": "b5c26891-cbed-49f3-e0c8-2e1a4acd54ab"
      },
      "source": [
        "def prime(n):\n",
        "  flag = 0\n",
        "  for i in range(2, int(n**0.5)+1):\n",
        "    if n%i==0:\n",
        "      flag = 1\n",
        "      break\n",
        "  return flag\n",
        "\n",
        "n, m = map(int, input().split())\n",
        "prime1 = []\n",
        "\n",
        "for i in range(n, m+1):\n",
        "  if prime(i)==0:\n",
        "    prime1.append(i)\n",
        "\n",
        "prime2 = []\n",
        "for i in prime1:\n",
        "  for j in prime1:\n",
        "    cross_prod = int(str(i)+str(j))\n",
        "    if prime(cross_prod)==0 and cross_prod not in prime2:\n",
        "      prime2.append(cross_prod)\n",
        "\n",
        "num1 = min(prime2)\n",
        "num2 = max(prime2)\n",
        "\n",
        "for i in range(len(prime2)-2):\n",
        "  sum = num1 + num2\n",
        "  num1 = num2\n",
        "  num2 = sum\n",
        "\n",
        "print(sum, end=\"\")      # end=\"\" is important to avoid presentational error in final round\n",
        "\n",
        "# Give Input like :\n",
        "# 30 70"
      ],
      "execution_count": 6,
      "outputs": [
        {
          "output_type": "stream",
          "text": [
            "30 70\n",
            "2027041"
          ],
          "name": "stdout"
        }
      ]
    },
    {
      "cell_type": "markdown",
      "metadata": {
        "id": "2b2lxtwQUbV8"
      },
      "source": [
        "### **METHOD - 2 :**"
      ]
    },
    {
      "cell_type": "code",
      "metadata": {
        "colab": {
          "base_uri": "https://localhost:8080/"
        },
        "id": "JxTdurH5UeDD",
        "outputId": "25011fd2-b9bb-4d44-aaad-98a6fb0816fc"
      },
      "source": [
        "n1,n2 = map(int,input().split())\n",
        "primes = [i for i in range(n1,n2+1) if all(i%j!=0 for j in range(2,int(i*0.5)+1))]\n",
        "seclist = []\n",
        "\n",
        "for i in range(len(primes)):\n",
        "  for j in range(len(primes)):\n",
        "    if primes[i]==primes[j]:\n",
        "      pass\n",
        "    else:\n",
        "      temp = str(primes[i]) + str(primes[j])\n",
        "      seclist.append(int(temp))\n",
        "\n",
        "secprimes = [m for m in seclist if all(m%n!=0 for n in range(2,int(m*0.5)+1))]\n",
        "\n",
        "secprimes = list(set(secprimes))\n",
        "\n",
        "mi = min(secprimes)\n",
        "mx = max(secprimes)\n",
        "\n",
        "target = len(secprimes)\n",
        "sm = 0\n",
        "\n",
        "for k in range(2,target):\n",
        "  sm = mx + mi\n",
        "  mi = mx\n",
        "  mx = sm\n",
        "  \n",
        "print(sm, end=\"\")     # end=\"\" is important to avoid presentational error in final round\n",
        "\n",
        "# Give Input like :\n",
        "# 20 70"
      ],
      "execution_count": 7,
      "outputs": [
        {
          "output_type": "stream",
          "text": [
            "20 70\n",
            "89842771"
          ],
          "name": "stdout"
        }
      ]
    },
    {
      "cell_type": "markdown",
      "metadata": {
        "id": "4b7xkB5mYh24"
      },
      "source": [
        "# **5. Kth LARGEST FACTOR OF N**\n",
        "* Question : [Click here](http://www.theinsightcoders.com/Codevita/CodevitaStatement05.html)"
      ]
    },
    {
      "cell_type": "markdown",
      "metadata": {
        "id": "m46EFUjRd-JX"
      },
      "source": [
        "### **METHOD - 1 :**\n",
        "**(Time complexity is less)**"
      ]
    },
    {
      "cell_type": "code",
      "metadata": {
        "colab": {
          "base_uri": "https://localhost:8080/"
        },
        "id": "M4H98uaEYgw3",
        "outputId": "67f4a6d1-311f-417e-d4ab-e0b291c799e6"
      },
      "source": [
        "from math import sqrt\n",
        "num, fac = map(int, input().split())\n",
        "fact = []\n",
        "cnt = 0\n",
        "for i in range(1, int(sqrt(num)+1)):\n",
        "  if num%i==0:\n",
        "    if i**2!=num:\n",
        "      fact.append(i)\n",
        "      fact.append(num//i)\n",
        "      cnt += 2\n",
        "    else:\n",
        "      fact.append(i)\n",
        "      cnt += 1\n",
        "\n",
        "fact.sort()\n",
        "\n",
        "if fac > cnt:\n",
        "  print(1, end=\"\")\n",
        "else:\n",
        "  print(fact[-fac], end=\"\")\n",
        "\n",
        "# Give Input like :\n",
        "# 10000000000 7"
      ],
      "execution_count": 8,
      "outputs": [
        {
          "output_type": "stream",
          "text": [
            "10000000000 7\n",
            "625000000"
          ],
          "name": "stdout"
        }
      ]
    },
    {
      "cell_type": "markdown",
      "metadata": {
        "id": "Sv6RwJ2neCAI"
      },
      "source": [
        "### **METHOD - 2 :**\n",
        "**(Time complexity is high and thus doesn't work for all inputs)**"
      ]
    },
    {
      "cell_type": "code",
      "metadata": {
        "colab": {
          "base_uri": "https://localhost:8080/"
        },
        "id": "4du0XJ2weBY-",
        "outputId": "46823e22-dea9-4694-aac7-6d7e9db4acea"
      },
      "source": [
        "num, fac = map(int, input().split())\n",
        "facs = []\n",
        "for i in range(1,num+1):\n",
        "  if num%i==0:\n",
        "    facs.append(i)\n",
        "\n",
        "if fac > len(facs):\n",
        "  print(1, end=\"\")\n",
        "else:\n",
        "  print(facs[-fac], end=\"\")\n",
        "\n",
        "# Give Input like :\n",
        "# 90 5"
      ],
      "execution_count": 9,
      "outputs": [
        {
          "output_type": "stream",
          "text": [
            "90 5\n",
            "15"
          ],
          "name": "stdout"
        }
      ]
    },
    {
      "cell_type": "markdown",
      "metadata": {
        "id": "Yx6eSl3-lkP6"
      },
      "source": [
        "# **6. COLLECTING CANDIES**\n",
        "* Question : [Click here](http://www.theinsightcoders.com/Codevita/CodevitaStatement06.html)"
      ]
    },
    {
      "cell_type": "markdown",
      "metadata": {
        "id": "2IdzEF3GT5DS"
      },
      "source": [
        "### **METHOD - 1 :**"
      ]
    },
    {
      "cell_type": "code",
      "metadata": {
        "id": "qMgI7pOdlwYD",
        "colab": {
          "base_uri": "https://localhost:8080/"
        },
        "outputId": "bfb8939b-bffa-4285-983b-10ae0d6566d1"
      },
      "source": [
        "T = int(input())\n",
        "res = []\n",
        "\n",
        "for i in range(T):\n",
        "  arr = []\n",
        "  N = int(input())\n",
        "  s = 0\n",
        "\n",
        "  candy = [int(x) for x in input().split()]\n",
        "  candy.sort()\n",
        "\n",
        "  while(len(candy)>=2):\n",
        "    candy.sort()\n",
        "    sum1 = candy[0] + candy[1]\n",
        "    arr.append(sum1)\n",
        "    candy.pop(0)\n",
        "    candy.pop(0)\n",
        "    candy.append(arr[-1])\n",
        "\n",
        "  for i in arr:\n",
        "    s += i\n",
        "  res.append(s)\n",
        "\n",
        "  for r in res:\n",
        "    print(r)\n",
        "\n",
        "# Give Input like :\n",
        "# 1\n",
        "# 4\n",
        "# 1 2 3 4"
      ],
      "execution_count": 10,
      "outputs": [
        {
          "output_type": "stream",
          "text": [
            "1\n",
            "4\n",
            "1 2 3 4\n",
            "19\n"
          ],
          "name": "stdout"
        }
      ]
    },
    {
      "cell_type": "markdown",
      "metadata": {
        "id": "5z4PysNyTNpE"
      },
      "source": [
        "### **METHOD - 2 :**"
      ]
    },
    {
      "cell_type": "code",
      "metadata": {
        "colab": {
          "base_uri": "https://localhost:8080/"
        },
        "id": "ich-vq33TTak",
        "outputId": "4bf75e66-8033-4f47-a526-aacc098e1367"
      },
      "source": [
        "tc = int(input())\n",
        "res = []\n",
        "s = 0\n",
        "\n",
        "for i in range(tc):\n",
        "  ele = int(input())\n",
        "  l = list(map(int, input().split()))\n",
        "  l1 = []\n",
        "  while len(l)>=2:\n",
        "    l.sort()\n",
        "    sm = l[0] + l[1]\n",
        "    l1.append(sm)\n",
        "    l = l[2:]\n",
        "    l.append(sm)\n",
        "  \n",
        "  for i in l1:\n",
        "    s += i\n",
        "  res.append(s)\n",
        "  \n",
        "for i in res:\n",
        "  print(i)\n",
        "\n",
        "# Give Input like :\n",
        "# 1\n",
        "# 5\n",
        "# 1 2 3 4 5"
      ],
      "execution_count": 11,
      "outputs": [
        {
          "output_type": "stream",
          "text": [
            "1\n",
            "5\n",
            "1 2 3 4 5\n",
            "33\n"
          ],
          "name": "stdout"
        }
      ]
    }
  ]
}